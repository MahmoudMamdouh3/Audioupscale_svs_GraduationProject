{
 "cells": [
  {
   "cell_type": "code",
   "execution_count": null,
   "metadata": {},
   "outputs": [],
   "source": [
    "from pydub import AudioSegment\n",
    "import os"
   ]
  },
  {
   "cell_type": "code",
   "execution_count": null,
   "metadata": {},
   "outputs": [],
   "source": [
    "\n",
    "def normalize_audio(input_directory, output_directory):\n",
    "    # Create the output directory if it doesn't exist\n",
    "    os.makedirs(output_directory, exist_ok=True)\n",
    "\n",
    "    # Iterate through all files in the input directory\n",
    "    for filename in os.listdir(input_directory):\n",
    "        if filename.lower().endswith((\".mp3\", \".wav\")):\n",
    "            input_path = os.path.join(input_directory, filename)\n",
    "            output_path = os.path.join(output_directory, f\"normalized_{filename}\")\n",
    "            print(f\"Normalizing {filename}...\")\n",
    "\n",
    "            # Load the audio file\n",
    "            audio = AudioSegment.from_file(input_path)\n",
    "\n",
    "            # Normalize the audio to -20 dBFS\n",
    "            normalized_audio = audio.set_frame_rate(44100).set_channels(1)\n",
    "            normalized_audio = normalized_audio.normalize(target_dBFS=-20.0)\n",
    "\n",
    "            # Export the normalized audio\n",
    "            normalized_audio.export(output_path, format=\"wav\")\n",
    "            print(f\"Normalized audio saved to {output_path}\")\n",
    "\n",
    "# Specify input and output directories\n",
    "input_audio_directory = \"/path/to/your/input/directory\"\n",
    "output_normalized_directory = \"/path/to/your/output/directory\"\n",
    "\n",
    "normalize_audio(input_audio_directory, output_normalized_directory)"
   ]
  }
 ],
 "metadata": {
  "language_info": {
   "name": "python"
  }
 },
 "nbformat": 4,
 "nbformat_minor": 2
}
