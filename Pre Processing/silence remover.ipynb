{
 "cells": [
  {
   "cell_type": "code",
   "execution_count": null,
   "metadata": {},
   "outputs": [],
   "source": [
    "from pydub import AudioSegment\n",
    "from pydub.silence import split_on_silence\n",
    "import os"
   ]
  },
  {
   "cell_type": "code",
   "execution_count": null,
   "metadata": {},
   "outputs": [],
   "source": [
    "def process_audio(input_directory, output_directory):\n",
    "    # Create the output directory if it doesn't exist\n",
    "    os.makedirs(output_directory, exist_ok=True)\n",
    "\n",
    "    # Iterate through all files in the input directory\n",
    "    for filename in os.listdir(input_directory):\n",
    "        if filename.lower().endswith((\".mp3\", \".wav\")):\n",
    "            input_path = os.path.join(input_directory, filename)\n",
    "            output_path = os.path.join(output_directory, f\"processed_{filename}\")\n",
    "            print(f\"Processing {filename}...\")\n",
    "\n",
    "            # Load the audio file\n",
    "            audio = AudioSegment.from_file(input_path)\n",
    "\n",
    "            # Split track where the silence is 2 seconds or more\n",
    "            chunks = split_on_silence(audio, min_silence_len=2000, silence_thresh=-16)\n",
    "\n",
    "            # Initialize an empty audio segment\n",
    "            concatenated_audio = AudioSegment.silent(duration=0)\n",
    "\n",
    "            for chunk in chunks:\n",
    "                # Skip silent chunks\n",
    "                if len(chunk) > 0:\n",
    "                    concatenated_audio += chunk\n",
    "\n",
    "            # Export the processed audio\n",
    "            concatenated_audio.export(output_path, format=\"wav\")\n",
    "            print(f\"Processed audio saved to {output_path}\")\n",
    "\n",
    "# Specify input and output directories\n",
    "input_audio_directory = \"/path/to/your/input/directory\"\n",
    "output_processed_directory = \"/path/to/your/output/directory\"\n",
    "\n",
    "process_audio(input_audio_directory, output_processed_directory)"
   ]
  }
 ],
 "metadata": {
  "language_info": {
   "name": "python"
  }
 },
 "nbformat": 4,
 "nbformat_minor": 2
}
