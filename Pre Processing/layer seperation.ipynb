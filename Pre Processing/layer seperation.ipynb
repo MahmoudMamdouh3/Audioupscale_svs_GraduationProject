{
 "cells": [
  {
   "cell_type": "code",
   "execution_count": null,
   "metadata": {},
   "outputs": [],
   "source": [
    "import os\n",
    "from ultimatevocalremover import UVR\n",
    "\n",
    "def separate_vocals(input_directory, output_directory):\n",
    "    # Create an instance of the UVR class\n",
    "    uvr = UVR()\n",
    "\n",
    "    # Set the desired parameters\n",
    "    uvr.model = \"MDX23C-InstVoc D1581\"  # Choose the model (e.g., MDX23C-InstVoc D1581, MDX-NET, HP-Karaoke-UVR)\n",
    "    uvr.denoise = \"Auto\"  # Set denoise level (Auto or a specific value)\n",
    "    uvr.segment_size = 800  # Adjust segment size (in milliseconds)\n",
    "    uvr.overlap = 8  # Adjust overlap (in milliseconds)\n",
    "    uvr.aggression = 2  # Set aggression level (1 to 5, higher values are more aggressive)\n",
    "    uvr.gpu_conversion = True  # Enable GPU conversion if available\n",
    "    uvr.ensemble_mode = False  # Set to True for ensemble mode (multiple output files)\n",
    "\n",
    "    # Get a list of all audio files in the specified input directory\n",
    "    audio_files = [file for file in os.listdir(input_directory) if file.lower().endswith(('.mp3', '.wav'))]\n",
    "\n",
    "    # Create the output directory if it doesn't exist\n",
    "    os.makedirs(output_directory, exist_ok=True)\n",
    "\n",
    "    for file in audio_files:\n",
    "        file_path = os.path.join(input_directory, file)\n",
    "        output_file_name = f\"vocals_removed_{file}\"\n",
    "        output_file_path = os.path.join(output_directory, output_file_name)\n",
    "\n",
    "        # Separate vocals and save the processed file\n",
    "        uvr.process_file(file_path, output_file_path)\n",
    "\n",
    "    print(\"Vocals separated successfully!\")\n",
    "\n",
    "if __name__ == \"__main__\":\n",
    "    input_location = input(\"Enter the path to the directory containing audio files: \")\n",
    "    output_location = input(\"Enter the path to the output directory: \")\n",
    "    separate_vocals(input_location, output_location)"
   ]
  }
 ],
 "metadata": {
  "language_info": {
   "name": "python"
  }
 },
 "nbformat": 4,
 "nbformat_minor": 2
}
