{
 "cells": [
  {
   "cell_type": "code",
   "execution_count": 1,
   "metadata": {},
   "outputs": [
    {
     "name": "stdout",
     "output_type": "stream",
     "text": [
      "Requirement already satisfied: pydub in c:\\users\\engma\\appdata\\local\\programs\\python\\python312\\lib\\site-packages (0.25.1)\n",
      "Note: you may need to restart the kernel to use updated packages.\n"
     ]
    }
   ],
   "source": [
    "%pip install pydub"
   ]
  },
  {
   "cell_type": "code",
   "execution_count": 2,
   "metadata": {},
   "outputs": [],
   "source": [
    "import os\n",
    "from pydub import AudioSegment"
   ]
  },
  {
   "cell_type": "code",
   "execution_count": 3,
   "metadata": {},
   "outputs": [
    {
     "name": "stdout",
     "output_type": "stream",
     "text": [
      "C:\\Users\\engma\\OneDrive\\Desktop\\UmKalthoum Dataset\\01.Alqalb Ye3shaq Kol Gameel.mp3 exceeds the allowed duration. Splitting...\n"
     ]
    }
   ],
   "source": [
    "def split_audio_file(file_path, output_directory, part_number=1, max_duration=30*60*1000):\n",
    "    audio = AudioSegment.from_file(file_path)\n",
    "    file_length = len(audio)\n",
    "    \n",
    "    if file_length <= max_duration:\n",
    "        print(f\"{file_path} is within the allowed duration.\")\n",
    "        return part_number\n",
    "    \n",
    "    print(f\"{file_path} exceeds the allowed duration. Splitting...\")\n",
    "    \n",
    "    base_name = os.path.splitext(os.path.basename(file_path))[0]\n",
    "    ext = os.path.splitext(file_path)[1]\n",
    "    \n",
    "    for i in range(0, file_length, max_duration):\n",
    "        part = audio[i:i+max_duration]\n",
    "        part_file_name = f\"{base_name}_part{part_number}{ext}\"\n",
    "        part_file_path = os.path.join(output_directory, part_file_name)\n",
    "        part.export(part_file_path, format=ext[1:])  # ext[1:] to remove the dot\n",
    "        print(f\"Exported {part_file_path}\")\n",
    "\n",
    "        # Recursively check if the part itself needs to be split further\n",
    "        if len(part) > max_duration:\n",
    "            print(f\"Part {part_file_name} still exceeds the allowed duration. Splitting further...\")\n",
    "            part_number = split_audio_file(part_file_path, output_directory, part_number, max_duration)\n",
    "        \n",
    "        part_number += 1\n",
    "\n",
    "    return part_number\n",
    "\n",
    "def process_directory(input_directory, output_directory):\n",
    "    if not os.path.exists(output_directory):\n",
    "        os.makedirs(output_directory)\n",
    "        \n",
    "    for root, _, files in os.walk(input_directory):\n",
    "        for file in files:\n",
    "            if file.endswith(('.mp3', '.wav', '.ogg', '.flac')):  # Add other audio file extensions if needed\n",
    "                file_path = os.path.join(root, file)\n",
    "                split_audio_file(file_path, output_directory)\n",
    "\n",
    "# Example usage\n",
    "input_directory_path = 'C:\\\\Users\\\\engma\\\\OneDrive\\\\Desktop\\\\UmKalthoum Dataset'\n",
    "output_directory_path = 'C:\\\\Users\\\\engma\\\\OneDrive\\\\Desktop\\\\um kalthom splitted'\n",
    "process_directory(input_directory_path, output_directory_path)"
   ]
  }
 ],
 "metadata": {
  "kernelspec": {
   "display_name": "Python 3",
   "language": "python",
   "name": "python3"
  },
  "language_info": {
   "codemirror_mode": {
    "name": "ipython",
    "version": 3
   },
   "file_extension": ".py",
   "mimetype": "text/x-python",
   "name": "python",
   "nbconvert_exporter": "python",
   "pygments_lexer": "ipython3",
   "version": "3.12.2"
  }
 },
 "nbformat": 4,
 "nbformat_minor": 2
}
