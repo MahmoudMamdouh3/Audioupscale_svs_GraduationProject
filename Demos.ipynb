{
  "cells": [
    {
      "cell_type": "markdown",
      "id": "ee1eef4e",
      "metadata": {
        "id": "ee1eef4e"
      },
      "source": [
        "# NNSVS demos\n",
        "\n",
        "[![Open In Colab](https://colab.research.google.com/assets/colab-badge.svg)](https://colab.research.google.com/github/nnsvs/nnsvs/blob/master/notebooks/Demos.ipynb)\n",
        "\n",
        "\n",
        "Singing voice synthesis (SVS) demo using nnsvs. All the models were trained using https://github.com/nnsvs/nnsvs. Recipes to reproduce experiments are included in the repository.\n",
        "\n",
        "NOTE: Due to the license issues, pre-trained models are not provided except for the ones trained on NIT-song070 database. The use of pre-traiend models are only permitted for research purpose."
      ]
    },
    {
      "cell_type": "markdown",
      "id": "7ffdb4e4",
      "metadata": {
        "id": "7ffdb4e4"
      },
      "source": [
        "## Preparation"
      ]
    },
    {
      "cell_type": "code",
      "execution_count": null,
      "id": "2978569c",
      "metadata": {
        "id": "2978569c"
      },
      "outputs": [],
      "source": [
        "%%capture\n",
        "try:\n",
        "    import nnsvs\n",
        "except ImportError:\n",
        "    ! pip install git+https://github.com/nnsvs/nnsvs"
      ]
    },
    {
      "cell_type": "code",
      "execution_count": null,
      "id": "2f69e83e",
      "metadata": {
        "id": "2f69e83e"
      },
      "outputs": [],
      "source": [
        "%pylab inline\n",
        "%load_ext autoreload\n",
        "%autoreload\n",
        "import IPython\n",
        "from IPython.display import Audio\n",
        "import pysinsy\n",
        "import librosa\n",
        "from nnmnkwii.io import hts"
      ]
    },
    {
      "cell_type": "code",
      "execution_count": null,
      "id": "70ea3c3d",
      "metadata": {
        "id": "70ea3c3d"
      },
      "outputs": [],
      "source": [
        "from nnsvs.pretrained import create_svs_engine\n",
        "import nnsvs"
      ]
    },
    {
      "cell_type": "markdown",
      "id": "1bd1ac38",
      "metadata": {
        "id": "1bd1ac38"
      },
      "source": [
        "## Sample 1"
      ]
    },
    {
      "cell_type": "code",
      "execution_count": null,
      "id": "d23193f1",
      "metadata": {
        "id": "d23193f1"
      },
      "outputs": [],
      "source": [
        "engine = create_svs_engine(\"r9y9/yoko_latest\")\n",
        "\n",
        "contexts = pysinsy.extract_fullcontext(nnsvs.util.example_xml_file(\"song070_f00001_063\"))\n",
        "labels = hts.HTSLabelFile.create_from_contexts(contexts)\n",
        "wav, sr = engine.svs(labels)\n",
        "\n",
        "Audio(wav, rate=sr)"
      ]
    },
    {
      "cell_type": "markdown",
      "id": "24832985",
      "metadata": {
        "id": "24832985"
      },
      "source": [
        "## References\n",
        "\n",
        "- nnsvs: https://github.com/nnsvs/nnsvs"
      ]
    }
  ],
  "metadata": {
    "kernelspec": {
      "display_name": "Python 3 (ipykernel)",
      "language": "python",
      "name": "python3"
    },
    "language_info": {
      "codemirror_mode": {
        "name": "ipython",
        "version": 3
      },
      "file_extension": ".py",
      "mimetype": "text/x-python",
      "name": "python",
      "nbconvert_exporter": "python",
      "pygments_lexer": "ipython3",
      "version": "3.8.13"
    },
    "colab": {
      "provenance": []
    }
  },
  "nbformat": 4,
  "nbformat_minor": 5
}